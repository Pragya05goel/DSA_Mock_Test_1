{
 "cells": [
  {
   "cell_type": "markdown",
   "id": "beb6e1ef-c51c-48a4-9035-c0c46aeec10d",
   "metadata": {},
   "source": [
    "# **DSA Mock Test 1**"
   ]
  },
  {
   "cell_type": "markdown",
   "id": "6224394a-911b-4b6b-836a-d2ce1df8251e",
   "metadata": {},
   "source": [
    "Ques:\n",
    "**Move Zeroes**<br>\n",
    "Given an integer array nums, move all 0's to the end of it while maintaining the relative order of the non-zero elements.\n",
    "\n",
    "Note that you must do this **in-place without making a copy of the array.**\n",
    "\n",
    "**Example 1:**<br>\n",
    "Input: nums = [0,1,0,3,12]<br>\n",
    "Output: [1,3,12,0,0]<br>\n",
    "\n",
    "**Example 2:**<br>\n",
    "Input: nums = [0]<br>\n",
    "Output: [0]<br>\n",
    "\n",
    "**Constraints:**<br>\n",
    "a. 1 <= nums.length <= 10^4<br>\n",
    "b. -2^31 <= nums[i] <= 2^31 - 1<br>\n"
   ]
  },
  {
   "cell_type": "code",
   "execution_count": 1,
   "id": "d9c113f2-94b0-402c-bde4-f463a754e433",
   "metadata": {},
   "outputs": [],
   "source": [
    "def move_zero_to_end(arr):\n",
    "    \n",
    "    for i in range(0,len(arr)):\n",
    "        if(arr[i]==0):\n",
    "            k=arr[i]\n",
    "            l=arr[len(arr)-1]\n",
    "            j=i\n",
    "            while(j<len(arr)-1):\n",
    "                arr[j]=arr[j+1]\n",
    "                j=j+1\n",
    "            arr[len(arr)-1]=k\n",
    "            \n",
    "    return  arr     "
   ]
  },
  {
   "cell_type": "code",
   "execution_count": 2,
   "id": "a67c8b0e-91bb-4aef-9a45-daf0dccae858",
   "metadata": {},
   "outputs": [
    {
     "data": {
      "text/plain": [
       "[1, 3, 12, 0, 0, 0]"
      ]
     },
     "execution_count": 2,
     "metadata": {},
     "output_type": "execute_result"
    }
   ],
   "source": [
    "move_zero_to_end([0,1,0,3,0,12])"
   ]
  },
  {
   "cell_type": "markdown",
   "id": "a3731be3-b2b9-419f-8ac2-76b69c99e108",
   "metadata": {},
   "source": [
    "Ques:\n",
    "**First Unique Character in a String**\n",
    "\n",
    "Given a string s, find the first non-repeating character in it and return its index. If it does not exist, return -1.\n",
    "\n",
    "**Example 1:**<br>\n",
    "Input: s = \"leetcode\"<br>\n",
    "Output: 0<br>\n",
    "\n",
    "**Example 2:**<br>\n",
    "Input: s = \"loveleetcode\"<br>\n",
    "Output: 2<br>\n",
    "\n",
    "**Example 3:**<br>\n",
    "Input: s = \"aabb\"<br>\n",
    "Output: -1<br>\n",
    "\n",
    "**Constraints:**<br>\n",
    "a. 1 <= s.length <= 10^5<br>\n",
    "b. s consists of only lowercase English letters<br>\n"
   ]
  },
  {
   "cell_type": "code",
   "execution_count": 3,
   "id": "2a7035c2-2e4e-427f-8d4a-987f42a0c415",
   "metadata": {},
   "outputs": [],
   "source": [
    "def first_non_repeating_char(s):\n",
    "    lst=[]\n",
    "    for i in s:\n",
    "        lst.append(s.count(i))\n",
    "        \n",
    "    for i in range(0,len(lst)):\n",
    "        if(lst[i]==1):\n",
    "            return i\n",
    "    return -1  "
   ]
  },
  {
   "cell_type": "code",
   "execution_count": 4,
   "id": "54579361-9bf0-40bb-8fdf-ed31681a2ec0",
   "metadata": {},
   "outputs": [
    {
     "data": {
      "text/plain": [
       "2"
      ]
     },
     "execution_count": 4,
     "metadata": {},
     "output_type": "execute_result"
    }
   ],
   "source": [
    "first_non_repeating_char(\"loveleetcode\")"
   ]
  },
  {
   "cell_type": "code",
   "execution_count": 5,
   "id": "ee9bb166-9d3a-4864-8b5c-a6f370d07af6",
   "metadata": {},
   "outputs": [
    {
     "data": {
      "text/plain": [
       "0"
      ]
     },
     "execution_count": 5,
     "metadata": {},
     "output_type": "execute_result"
    }
   ],
   "source": [
    "first_non_repeating_char(\"leetcode\")"
   ]
  },
  {
   "cell_type": "code",
   "execution_count": 6,
   "id": "7fd33084-1a4d-403b-9803-70fab7fdb435",
   "metadata": {},
   "outputs": [
    {
     "data": {
      "text/plain": [
       "-1"
      ]
     },
     "execution_count": 6,
     "metadata": {},
     "output_type": "execute_result"
    }
   ],
   "source": [
    "first_non_repeating_char(\"aabb\")"
   ]
  },
  {
   "cell_type": "markdown",
   "id": "ce3e1fba-ba51-41c2-85a8-9f36fa8bcb73",
   "metadata": {},
   "source": [
    "--------------------------"
   ]
  },
  {
   "cell_type": "code",
   "execution_count": null,
   "id": "136946d5-d4b4-4c15-a35f-abd64af84eef",
   "metadata": {},
   "outputs": [],
   "source": []
  }
 ],
 "metadata": {
  "kernelspec": {
   "display_name": "Python 3 (ipykernel)",
   "language": "python",
   "name": "python3"
  },
  "language_info": {
   "codemirror_mode": {
    "name": "ipython",
    "version": 3
   },
   "file_extension": ".py",
   "mimetype": "text/x-python",
   "name": "python",
   "nbconvert_exporter": "python",
   "pygments_lexer": "ipython3",
   "version": "3.10.8"
  }
 },
 "nbformat": 4,
 "nbformat_minor": 5
}
